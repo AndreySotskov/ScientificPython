{
 "cells": [
  {
   "cell_type": "markdown",
   "id": "00ac662b",
   "metadata": {},
   "source": [
    "# 39. Уравнение \n"
   ]
  },
  {
   "cell_type": "markdown",
   "id": "3a8a0be6",
   "metadata": {},
   "source": [
    "$2^x = x^2$ Уравнение $2^x = x^2$ имеет 3 вещественных решения.\n",
    "\n",
    "Постройте графики функций $y = 2^x$ и $y = x^2$ и убедитесь, что они пересекаются в 3 точках. Найдите все 3 решения с помощью функции scipy.optimize.brentq. Можете воспользоваться другим методом. Обоснуйте свой выбор. Выразите решения уравнения через функцию Ламберта (см. № 38). Найдите все три решения с помощью функции scipy.special.lambertw. Вам придется работать с комплексными значениями этой функции, чтобы получить вещественные корни исходного уравнения. Сравните все подходы и сделайте выводы."
   ]
  },
  {
   "cell_type": "code",
   "execution_count": 4,
   "id": "4ce64021",
   "metadata": {},
   "outputs": [],
   "source": [
    "import matplotlib.pyplot as plt\n",
    "import numpy as np\n",
    "from scipy import optimize\n",
    "from scipy.special import lambertw"
   ]
  },
  {
   "cell_type": "markdown",
   "id": "8cc43e50",
   "metadata": {},
   "source": [
    "Пишем функцию и находим решение нашего уравнения.\n",
    "Получилось 3 точки удовлетворяющих нашему условию."
   ]
  },
  {
   "cell_type": "code",
   "execution_count": 158,
   "id": "0a75ac22",
   "metadata": {
    "scrolled": false
   },
   "outputs": [
    {
     "name": "stdout",
     "output_type": "stream",
     "text": [
      "-0.7666646959621225\n",
      "2.0000000000000004\n",
      "4.0\n"
     ]
    },
    {
     "data": {
      "text/plain": [
       "(0.17281600284, -inf, -2.2977951275658777)"
      ]
     },
     "execution_count": 158,
     "metadata": {},
     "output_type": "execute_result"
    }
   ],
   "source": [
    "def f1(x):\n",
    "    return x * x\n",
    "\n",
    "def f2(x):\n",
    "    return 2**x\n",
    "\n",
    "print(optimize.brentq(lambda x: f1(x)-f2(x), -2, 0))\n",
    "print(optimize.brentq(lambda x: f1(x)-f2(x), 0, 3))\n",
    "print(optimize.brentq(lambda x: f1(x)-f2(x), 3, 5))\n",
    "w = lambertw(-2, 0) \n",
    "w1 = lambertw(0, 3)\n",
    "w2 = lambertw(3, 5)\n",
    "w.real, w1.real, w2.real\n",
    "##lambertw(0, k=0), lambertw(30), lambertw(5), lambertw(-.2, k=-1).real"
   ]
  },
  {
   "cell_type": "markdown",
   "id": "82e0bd11",
   "metadata": {},
   "source": [
    "Строим графики функций $x^2$ и $2^x$. Видно, что графики функций пересекаются в 3-х точках. Значения при x мы уже вычисляли выше, в которых будут наши решения уравнения\n",
    "\n",
    "\n",
    "\n"
   ]
  },
  {
   "cell_type": "markdown",
   "id": "205fa6ec",
   "metadata": {},
   "source": [
    "\n",
    "\n",
    "\n",
    "\n",
    "\n",
    "\n",
    "\n",
    "\n",
    "\n"
   ]
  },
  {
   "cell_type": "code",
   "execution_count": 88,
   "id": "c00c1d4b",
   "metadata": {
    "scrolled": true
   },
   "outputs": [
    {
     "data": {
      "image/png": "[encoded data removed]",
      "text/plain": [
       "<Figure size 432x288 with 1 Axes>"
      ]
     },
     "metadata": {
      "needs_background": "light"
     },
     "output_type": "display_data"
    }
   ],
   "source": [
    "ln = 0.1\n",
    "x = np.arange(-2.0, 5, ln)\n",
    "y = x * x\n",
    "\n",
    "x1 = np.arange(-2.0, 5, ln)\n",
    "\n",
    "y1 = 2**x\n",
    "\n",
    "fig = plt.figure()\n",
    "plt.title('График функций')\n",
    "plt.plot(x, y, label = \"First\")\n",
    "plt.plot(x1, y1, label = \"Second\")\n",
    "plt.legend()\n",
    "plt.grid()"
   ]
  },
  {
   "cell_type": "markdown",
   "id": "cbe73124",
   "metadata": {},
   "source": []
  }
 ],
 "metadata": {
  "kernelspec": {
   "display_name": "Python 3 (ipykernel)",
   "language": "python",
   "name": "python3"
  },
  "language_info": {
   "codemirror_mode": {
    "name": "ipython",
    "version": 3
   },
   "file_extension": ".py",
   "mimetype": "text/x-python",
   "name": "python",
   "nbconvert_exporter": "python",
   "pygments_lexer": "ipython3",
   "version": "3.9.7"
  }
 },
 "nbformat": 4,
 "nbformat_minor": 5
}
